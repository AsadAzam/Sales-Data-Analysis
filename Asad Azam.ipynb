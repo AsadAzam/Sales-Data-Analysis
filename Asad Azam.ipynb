{
 "cells": [
  {
   "cell_type": "markdown",
   "metadata": {},
   "source": [
    "# Sales Data Analysis Mini Project\n",
    "    Submitted by : Asad Azam\n",
    "    PRN : 18070122011\n",
    "    Symbiosis Institute of Technology\n",
    "    Batch : 2018-22 CS\n",
    "    E-Mail : asad.azam.btech2018@sitpune.edu.in / asad.azam.asad@gmail.com"
   ]
  },
  {
   "cell_type": "markdown",
   "metadata": {},
   "source": [
    "# Identifying and importing essential libraries"
   ]
  },
  {
   "cell_type": "code",
   "execution_count": 1,
   "metadata": {},
   "outputs": [],
   "source": [
    "import numpy as np\n",
    "import pandas as pd\n",
    "from pandas import DataFrame\n",
    "import matplotlib.pyplot as plt"
   ]
  },
  {
   "cell_type": "markdown",
   "metadata": {},
   "source": [
    "# Task 2: Data loading and overview\n",
    "### 2.a Loading Dataset from a file:\n",
    "    Please specify path before running!"
   ]
  },
  {
   "cell_type": "code",
   "execution_count": 2,
   "metadata": {},
   "outputs": [],
   "source": [
    "path = '/Users/asad/Downloads/Superstore.xls'\n",
    "xl = pd.ExcelFile(path)"
   ]
  },
  {
   "cell_type": "code",
   "execution_count": 3,
   "metadata": {},
   "outputs": [
    {
     "name": "stdout",
     "output_type": "stream",
     "text": [
      "['Orders', 'Returns', 'People']\n"
     ]
    }
   ],
   "source": [
    "print(xl.sheet_names)\n",
    "sheet1 = xl.parse('Orders')"
   ]
  },
  {
   "cell_type": "markdown",
   "metadata": {},
   "source": [
    "### 2.b Look at the first 5 records of the data"
   ]
  },
  {
   "cell_type": "code",
   "execution_count": 4,
   "metadata": {},
   "outputs": [
    {
     "data": {
      "text/html": [
       "<div>\n",
       "<style scoped>\n",
       "    .dataframe tbody tr th:only-of-type {\n",
       "        vertical-align: middle;\n",
       "    }\n",
       "\n",
       "    .dataframe tbody tr th {\n",
       "        vertical-align: top;\n",
       "    }\n",
       "\n",
       "    .dataframe thead th {\n",
       "        text-align: right;\n",
       "    }\n",
       "</style>\n",
       "<table border=\"1\" class=\"dataframe\">\n",
       "  <thead>\n",
       "    <tr style=\"text-align: right;\">\n",
       "      <th></th>\n",
       "      <th>Row ID</th>\n",
       "      <th>Order ID</th>\n",
       "      <th>Order Date</th>\n",
       "      <th>Ship Date</th>\n",
       "      <th>Ship Mode</th>\n",
       "      <th>Customer ID</th>\n",
       "      <th>Customer Name</th>\n",
       "      <th>Segment</th>\n",
       "      <th>Country</th>\n",
       "      <th>City</th>\n",
       "      <th>...</th>\n",
       "      <th>Postal Code</th>\n",
       "      <th>Region</th>\n",
       "      <th>Product ID</th>\n",
       "      <th>Category</th>\n",
       "      <th>Sub-Category</th>\n",
       "      <th>Product Name</th>\n",
       "      <th>Sales</th>\n",
       "      <th>Quantity</th>\n",
       "      <th>Discount</th>\n",
       "      <th>Profit</th>\n",
       "    </tr>\n",
       "  </thead>\n",
       "  <tbody>\n",
       "    <tr>\n",
       "      <th>0</th>\n",
       "      <td>1</td>\n",
       "      <td>CA-2016-152156</td>\n",
       "      <td>2016-11-08</td>\n",
       "      <td>2016-11-11</td>\n",
       "      <td>Second Class</td>\n",
       "      <td>CG-12520</td>\n",
       "      <td>Claire Gute</td>\n",
       "      <td>Consumer</td>\n",
       "      <td>United States</td>\n",
       "      <td>Henderson</td>\n",
       "      <td>...</td>\n",
       "      <td>42420</td>\n",
       "      <td>South</td>\n",
       "      <td>FUR-BO-10001798</td>\n",
       "      <td>Furniture</td>\n",
       "      <td>Bookcases</td>\n",
       "      <td>Bush Somerset Collection Bookcase</td>\n",
       "      <td>261.9600</td>\n",
       "      <td>2</td>\n",
       "      <td>0.00</td>\n",
       "      <td>41.9136</td>\n",
       "    </tr>\n",
       "    <tr>\n",
       "      <th>1</th>\n",
       "      <td>2</td>\n",
       "      <td>CA-2016-152156</td>\n",
       "      <td>2016-11-08</td>\n",
       "      <td>2016-11-11</td>\n",
       "      <td>Second Class</td>\n",
       "      <td>CG-12520</td>\n",
       "      <td>Claire Gute</td>\n",
       "      <td>Consumer</td>\n",
       "      <td>United States</td>\n",
       "      <td>Henderson</td>\n",
       "      <td>...</td>\n",
       "      <td>42420</td>\n",
       "      <td>South</td>\n",
       "      <td>FUR-CH-10000454</td>\n",
       "      <td>Furniture</td>\n",
       "      <td>Chairs</td>\n",
       "      <td>Hon Deluxe Fabric Upholstered Stacking Chairs,...</td>\n",
       "      <td>731.9400</td>\n",
       "      <td>3</td>\n",
       "      <td>0.00</td>\n",
       "      <td>219.5820</td>\n",
       "    </tr>\n",
       "    <tr>\n",
       "      <th>2</th>\n",
       "      <td>3</td>\n",
       "      <td>CA-2016-138688</td>\n",
       "      <td>2016-06-12</td>\n",
       "      <td>2016-06-16</td>\n",
       "      <td>Second Class</td>\n",
       "      <td>DV-13045</td>\n",
       "      <td>Darrin Van Huff</td>\n",
       "      <td>Corporate</td>\n",
       "      <td>United States</td>\n",
       "      <td>Los Angeles</td>\n",
       "      <td>...</td>\n",
       "      <td>90036</td>\n",
       "      <td>West</td>\n",
       "      <td>OFF-LA-10000240</td>\n",
       "      <td>Office Supplies</td>\n",
       "      <td>Labels</td>\n",
       "      <td>Self-Adhesive Address Labels for Typewriters b...</td>\n",
       "      <td>14.6200</td>\n",
       "      <td>2</td>\n",
       "      <td>0.00</td>\n",
       "      <td>6.8714</td>\n",
       "    </tr>\n",
       "    <tr>\n",
       "      <th>3</th>\n",
       "      <td>4</td>\n",
       "      <td>US-2015-108966</td>\n",
       "      <td>2015-10-11</td>\n",
       "      <td>2015-10-18</td>\n",
       "      <td>Standard Class</td>\n",
       "      <td>SO-20335</td>\n",
       "      <td>Sean O'Donnell</td>\n",
       "      <td>Consumer</td>\n",
       "      <td>United States</td>\n",
       "      <td>Fort Lauderdale</td>\n",
       "      <td>...</td>\n",
       "      <td>33311</td>\n",
       "      <td>South</td>\n",
       "      <td>FUR-TA-10000577</td>\n",
       "      <td>Furniture</td>\n",
       "      <td>Tables</td>\n",
       "      <td>Bretford CR4500 Series Slim Rectangular Table</td>\n",
       "      <td>957.5775</td>\n",
       "      <td>5</td>\n",
       "      <td>0.45</td>\n",
       "      <td>-383.0310</td>\n",
       "    </tr>\n",
       "    <tr>\n",
       "      <th>4</th>\n",
       "      <td>5</td>\n",
       "      <td>US-2015-108966</td>\n",
       "      <td>2015-10-11</td>\n",
       "      <td>2015-10-18</td>\n",
       "      <td>Standard Class</td>\n",
       "      <td>SO-20335</td>\n",
       "      <td>Sean O'Donnell</td>\n",
       "      <td>Consumer</td>\n",
       "      <td>United States</td>\n",
       "      <td>Fort Lauderdale</td>\n",
       "      <td>...</td>\n",
       "      <td>33311</td>\n",
       "      <td>South</td>\n",
       "      <td>OFF-ST-10000760</td>\n",
       "      <td>Office Supplies</td>\n",
       "      <td>Storage</td>\n",
       "      <td>Eldon Fold 'N Roll Cart System</td>\n",
       "      <td>22.3680</td>\n",
       "      <td>2</td>\n",
       "      <td>0.20</td>\n",
       "      <td>2.5164</td>\n",
       "    </tr>\n",
       "  </tbody>\n",
       "</table>\n",
       "<p>5 rows × 21 columns</p>\n",
       "</div>"
      ],
      "text/plain": [
       "   Row ID        Order ID Order Date  Ship Date       Ship Mode Customer ID  \\\n",
       "0       1  CA-2016-152156 2016-11-08 2016-11-11    Second Class    CG-12520   \n",
       "1       2  CA-2016-152156 2016-11-08 2016-11-11    Second Class    CG-12520   \n",
       "2       3  CA-2016-138688 2016-06-12 2016-06-16    Second Class    DV-13045   \n",
       "3       4  US-2015-108966 2015-10-11 2015-10-18  Standard Class    SO-20335   \n",
       "4       5  US-2015-108966 2015-10-11 2015-10-18  Standard Class    SO-20335   \n",
       "\n",
       "     Customer Name    Segment        Country             City  ...  \\\n",
       "0      Claire Gute   Consumer  United States        Henderson  ...   \n",
       "1      Claire Gute   Consumer  United States        Henderson  ...   \n",
       "2  Darrin Van Huff  Corporate  United States      Los Angeles  ...   \n",
       "3   Sean O'Donnell   Consumer  United States  Fort Lauderdale  ...   \n",
       "4   Sean O'Donnell   Consumer  United States  Fort Lauderdale  ...   \n",
       "\n",
       "  Postal Code  Region       Product ID         Category Sub-Category  \\\n",
       "0       42420   South  FUR-BO-10001798        Furniture    Bookcases   \n",
       "1       42420   South  FUR-CH-10000454        Furniture       Chairs   \n",
       "2       90036    West  OFF-LA-10000240  Office Supplies       Labels   \n",
       "3       33311   South  FUR-TA-10000577        Furniture       Tables   \n",
       "4       33311   South  OFF-ST-10000760  Office Supplies      Storage   \n",
       "\n",
       "                                        Product Name     Sales  Quantity  \\\n",
       "0                  Bush Somerset Collection Bookcase  261.9600         2   \n",
       "1  Hon Deluxe Fabric Upholstered Stacking Chairs,...  731.9400         3   \n",
       "2  Self-Adhesive Address Labels for Typewriters b...   14.6200         2   \n",
       "3      Bretford CR4500 Series Slim Rectangular Table  957.5775         5   \n",
       "4                     Eldon Fold 'N Roll Cart System   22.3680         2   \n",
       "\n",
       "   Discount    Profit  \n",
       "0      0.00   41.9136  \n",
       "1      0.00  219.5820  \n",
       "2      0.00    6.8714  \n",
       "3      0.45 -383.0310  \n",
       "4      0.20    2.5164  \n",
       "\n",
       "[5 rows x 21 columns]"
      ]
     },
     "execution_count": 4,
     "metadata": {},
     "output_type": "execute_result"
    }
   ],
   "source": [
    "sheet1.head(5)"
   ]
  },
  {
   "cell_type": "markdown",
   "metadata": {},
   "source": [
    "### 2.c Print the columns contained in the data"
   ]
  },
  {
   "cell_type": "code",
   "execution_count": 5,
   "metadata": {},
   "outputs": [
    {
     "name": "stdout",
     "output_type": "stream",
     "text": [
      "Index(['Row ID', 'Order ID', 'Order Date', 'Ship Date', 'Ship Mode',\n",
      "       'Customer ID', 'Customer Name', 'Segment', 'Country', 'City', 'State',\n",
      "       'Postal Code', 'Region', 'Product ID', 'Category', 'Sub-Category',\n",
      "       'Product Name', 'Sales', 'Quantity', 'Discount', 'Profit'],\n",
      "      dtype='object')\n"
     ]
    }
   ],
   "source": [
    "print(sheet1.columns)"
   ]
  },
  {
   "cell_type": "markdown",
   "metadata": {},
   "source": [
    "### 2.d Print the attributes like count, mean, max, min, standard deviation etc"
   ]
  },
  {
   "cell_type": "code",
   "execution_count": 6,
   "metadata": {},
   "outputs": [
    {
     "name": "stdout",
     "output_type": "stream",
     "text": [
      "Count of sales: 9994\n",
      "Mean sales: 229.85800083049833\n",
      "Max sales: 22638.48\n",
      "Min sales: 0.44399999999999995\n",
      "Std of sales: 623.2451005086808\n",
      "Var of sales: 388434.45530807565\n",
      "Median sales: 54.489999999999995\n",
      "Sum of sales: 2297200.8603000003\n"
     ]
    }
   ],
   "source": [
    "count1 = sheet1['Sales'].count()\n",
    "mean1 = sheet1['Sales'].mean()\n",
    "max1 = sheet1['Sales'].max()\n",
    "min1 = sheet1['Sales'].min()\n",
    "std1 = sheet1['Sales'].std()\n",
    "var1 = sheet1['Sales'].var()\n",
    "median1 = sheet1['Sales'].median() \n",
    "sum1 = sheet1['Sales'].sum()\n",
    "\n",
    "print ('Count of sales: ' + str(count1))\n",
    "print ('Mean sales: ' + str(mean1))\n",
    "print ('Max sales: ' + str(max1))\n",
    "print ('Min sales: ' + str(min1))\n",
    "print ('Std of sales: ' + str(std1))\n",
    "print ('Var of sales: ' + str(var1))\n",
    "print ('Median sales: ' + str(median1))\n",
    "print ('Sum of sales: ' + str(sum1))"
   ]
  },
  {
   "cell_type": "markdown",
   "metadata": {},
   "source": [
    "### 2.e Find out are there any missing or null values in the data for all columns"
   ]
  },
  {
   "cell_type": "code",
   "execution_count": 7,
   "metadata": {},
   "outputs": [
    {
     "name": "stdout",
     "output_type": "stream",
     "text": [
      "Total NaN/missing in a data :  0\n"
     ]
    }
   ],
   "source": [
    "print(\"Total NaN/missing in a data : \", sheet1.isnull().sum().sum())"
   ]
  },
  {
   "cell_type": "markdown",
   "metadata": {},
   "source": [
    "# Task 3: Find out the per unit price from the data\n",
    "### 3.a Convert date time field into pandas time object"
   ]
  },
  {
   "cell_type": "code",
   "execution_count": 8,
   "metadata": {},
   "outputs": [],
   "source": [
    "sheet1['Order Date'] = sheet1['Order Date'].apply(pd.to_datetime)"
   ]
  },
  {
   "cell_type": "markdown",
   "metadata": {},
   "source": [
    "### 3.b Find out the price per unit from the data and create a column for it in the same data\n",
    "\n",
    "Cost Price per unit = ( Selling Price  - Profit ) / ( Quantity x ( 1 - Discount ))"
   ]
  },
  {
   "cell_type": "code",
   "execution_count": 9,
   "metadata": {},
   "outputs": [
    {
     "name": "stdout",
     "output_type": "stream",
     "text": [
      "0       110.02320\n",
      "1       170.78600\n",
      "2         3.87430\n",
      "3       487.49400\n",
      "4        12.40725\n",
      "          ...    \n",
      "9989      8.81050\n",
      "9990     38.16340\n",
      "9991    149.48925\n",
      "9992      4.07000\n",
      "9993     85.10600\n",
      "Length: 9994, dtype: float64\n"
     ]
    }
   ],
   "source": [
    "for i in range(len(sheet1.index)):\n",
    "    price_per_unit = ( sheet1['Sales'] - sheet1['Profit'] ) / ( sheet1['Quantity'] * ( 1 - sheet1['Discount'] ))\n",
    "print(price_per_unit)"
   ]
  },
  {
   "cell_type": "markdown",
   "metadata": {},
   "source": [
    "# Task 4: Find out the monthly revenue and analyze the findings\n",
    "### 4.a Create a column with Year and month field only give a suitable name to it"
   ]
  },
  {
   "cell_type": "code",
   "execution_count": 10,
   "metadata": {},
   "outputs": [
    {
     "data": {
      "text/html": [
       "<div>\n",
       "<style scoped>\n",
       "    .dataframe tbody tr th:only-of-type {\n",
       "        vertical-align: middle;\n",
       "    }\n",
       "\n",
       "    .dataframe tbody tr th {\n",
       "        vertical-align: top;\n",
       "    }\n",
       "\n",
       "    .dataframe thead th {\n",
       "        text-align: right;\n",
       "    }\n",
       "</style>\n",
       "<table border=\"1\" class=\"dataframe\">\n",
       "  <thead>\n",
       "    <tr style=\"text-align: right;\">\n",
       "      <th></th>\n",
       "      <th>Row ID</th>\n",
       "      <th>Order ID</th>\n",
       "      <th>Order Date</th>\n",
       "      <th>Ship Date</th>\n",
       "      <th>Ship Mode</th>\n",
       "      <th>Customer ID</th>\n",
       "      <th>Customer Name</th>\n",
       "      <th>Segment</th>\n",
       "      <th>Country</th>\n",
       "      <th>City</th>\n",
       "      <th>...</th>\n",
       "      <th>Region</th>\n",
       "      <th>Product ID</th>\n",
       "      <th>Category</th>\n",
       "      <th>Sub-Category</th>\n",
       "      <th>Product Name</th>\n",
       "      <th>Sales</th>\n",
       "      <th>Quantity</th>\n",
       "      <th>Discount</th>\n",
       "      <th>Profit</th>\n",
       "      <th>Month_Year</th>\n",
       "    </tr>\n",
       "  </thead>\n",
       "  <tbody>\n",
       "    <tr>\n",
       "      <th>0</th>\n",
       "      <td>1</td>\n",
       "      <td>CA-2016-152156</td>\n",
       "      <td>2016-11-08</td>\n",
       "      <td>2016-11-11</td>\n",
       "      <td>Second Class</td>\n",
       "      <td>CG-12520</td>\n",
       "      <td>Claire Gute</td>\n",
       "      <td>Consumer</td>\n",
       "      <td>United States</td>\n",
       "      <td>Henderson</td>\n",
       "      <td>...</td>\n",
       "      <td>South</td>\n",
       "      <td>FUR-BO-10001798</td>\n",
       "      <td>Furniture</td>\n",
       "      <td>Bookcases</td>\n",
       "      <td>Bush Somerset Collection Bookcase</td>\n",
       "      <td>261.9600</td>\n",
       "      <td>2</td>\n",
       "      <td>0.00</td>\n",
       "      <td>41.9136</td>\n",
       "      <td>2016-11</td>\n",
       "    </tr>\n",
       "    <tr>\n",
       "      <th>1</th>\n",
       "      <td>2</td>\n",
       "      <td>CA-2016-152156</td>\n",
       "      <td>2016-11-08</td>\n",
       "      <td>2016-11-11</td>\n",
       "      <td>Second Class</td>\n",
       "      <td>CG-12520</td>\n",
       "      <td>Claire Gute</td>\n",
       "      <td>Consumer</td>\n",
       "      <td>United States</td>\n",
       "      <td>Henderson</td>\n",
       "      <td>...</td>\n",
       "      <td>South</td>\n",
       "      <td>FUR-CH-10000454</td>\n",
       "      <td>Furniture</td>\n",
       "      <td>Chairs</td>\n",
       "      <td>Hon Deluxe Fabric Upholstered Stacking Chairs,...</td>\n",
       "      <td>731.9400</td>\n",
       "      <td>3</td>\n",
       "      <td>0.00</td>\n",
       "      <td>219.5820</td>\n",
       "      <td>2016-11</td>\n",
       "    </tr>\n",
       "    <tr>\n",
       "      <th>2</th>\n",
       "      <td>3</td>\n",
       "      <td>CA-2016-138688</td>\n",
       "      <td>2016-06-12</td>\n",
       "      <td>2016-06-16</td>\n",
       "      <td>Second Class</td>\n",
       "      <td>DV-13045</td>\n",
       "      <td>Darrin Van Huff</td>\n",
       "      <td>Corporate</td>\n",
       "      <td>United States</td>\n",
       "      <td>Los Angeles</td>\n",
       "      <td>...</td>\n",
       "      <td>West</td>\n",
       "      <td>OFF-LA-10000240</td>\n",
       "      <td>Office Supplies</td>\n",
       "      <td>Labels</td>\n",
       "      <td>Self-Adhesive Address Labels for Typewriters b...</td>\n",
       "      <td>14.6200</td>\n",
       "      <td>2</td>\n",
       "      <td>0.00</td>\n",
       "      <td>6.8714</td>\n",
       "      <td>2016-06</td>\n",
       "    </tr>\n",
       "    <tr>\n",
       "      <th>3</th>\n",
       "      <td>4</td>\n",
       "      <td>US-2015-108966</td>\n",
       "      <td>2015-10-11</td>\n",
       "      <td>2015-10-18</td>\n",
       "      <td>Standard Class</td>\n",
       "      <td>SO-20335</td>\n",
       "      <td>Sean O'Donnell</td>\n",
       "      <td>Consumer</td>\n",
       "      <td>United States</td>\n",
       "      <td>Fort Lauderdale</td>\n",
       "      <td>...</td>\n",
       "      <td>South</td>\n",
       "      <td>FUR-TA-10000577</td>\n",
       "      <td>Furniture</td>\n",
       "      <td>Tables</td>\n",
       "      <td>Bretford CR4500 Series Slim Rectangular Table</td>\n",
       "      <td>957.5775</td>\n",
       "      <td>5</td>\n",
       "      <td>0.45</td>\n",
       "      <td>-383.0310</td>\n",
       "      <td>2015-10</td>\n",
       "    </tr>\n",
       "    <tr>\n",
       "      <th>4</th>\n",
       "      <td>5</td>\n",
       "      <td>US-2015-108966</td>\n",
       "      <td>2015-10-11</td>\n",
       "      <td>2015-10-18</td>\n",
       "      <td>Standard Class</td>\n",
       "      <td>SO-20335</td>\n",
       "      <td>Sean O'Donnell</td>\n",
       "      <td>Consumer</td>\n",
       "      <td>United States</td>\n",
       "      <td>Fort Lauderdale</td>\n",
       "      <td>...</td>\n",
       "      <td>South</td>\n",
       "      <td>OFF-ST-10000760</td>\n",
       "      <td>Office Supplies</td>\n",
       "      <td>Storage</td>\n",
       "      <td>Eldon Fold 'N Roll Cart System</td>\n",
       "      <td>22.3680</td>\n",
       "      <td>2</td>\n",
       "      <td>0.20</td>\n",
       "      <td>2.5164</td>\n",
       "      <td>2015-10</td>\n",
       "    </tr>\n",
       "  </tbody>\n",
       "</table>\n",
       "<p>5 rows × 22 columns</p>\n",
       "</div>"
      ],
      "text/plain": [
       "   Row ID        Order ID Order Date  Ship Date       Ship Mode Customer ID  \\\n",
       "0       1  CA-2016-152156 2016-11-08 2016-11-11    Second Class    CG-12520   \n",
       "1       2  CA-2016-152156 2016-11-08 2016-11-11    Second Class    CG-12520   \n",
       "2       3  CA-2016-138688 2016-06-12 2016-06-16    Second Class    DV-13045   \n",
       "3       4  US-2015-108966 2015-10-11 2015-10-18  Standard Class    SO-20335   \n",
       "4       5  US-2015-108966 2015-10-11 2015-10-18  Standard Class    SO-20335   \n",
       "\n",
       "     Customer Name    Segment        Country             City  ... Region  \\\n",
       "0      Claire Gute   Consumer  United States        Henderson  ...  South   \n",
       "1      Claire Gute   Consumer  United States        Henderson  ...  South   \n",
       "2  Darrin Van Huff  Corporate  United States      Los Angeles  ...   West   \n",
       "3   Sean O'Donnell   Consumer  United States  Fort Lauderdale  ...  South   \n",
       "4   Sean O'Donnell   Consumer  United States  Fort Lauderdale  ...  South   \n",
       "\n",
       "        Product ID         Category Sub-Category  \\\n",
       "0  FUR-BO-10001798        Furniture    Bookcases   \n",
       "1  FUR-CH-10000454        Furniture       Chairs   \n",
       "2  OFF-LA-10000240  Office Supplies       Labels   \n",
       "3  FUR-TA-10000577        Furniture       Tables   \n",
       "4  OFF-ST-10000760  Office Supplies      Storage   \n",
       "\n",
       "                                        Product Name     Sales Quantity  \\\n",
       "0                  Bush Somerset Collection Bookcase  261.9600        2   \n",
       "1  Hon Deluxe Fabric Upholstered Stacking Chairs,...  731.9400        3   \n",
       "2  Self-Adhesive Address Labels for Typewriters b...   14.6200        2   \n",
       "3      Bretford CR4500 Series Slim Rectangular Table  957.5775        5   \n",
       "4                     Eldon Fold 'N Roll Cart System   22.3680        2   \n",
       "\n",
       "   Discount    Profit  Month_Year  \n",
       "0      0.00   41.9136     2016-11  \n",
       "1      0.00  219.5820     2016-11  \n",
       "2      0.00    6.8714     2016-06  \n",
       "3      0.45 -383.0310     2015-10  \n",
       "4      0.20    2.5164     2015-10  \n",
       "\n",
       "[5 rows x 22 columns]"
      ]
     },
     "execution_count": 10,
     "metadata": {},
     "output_type": "execute_result"
    }
   ],
   "source": [
    "sheet1['Month_Year'] = pd.to_datetime(sheet1['Order Date']).dt.to_period('M')\n",
    "sheet1.head()"
   ]
  },
  {
   "cell_type": "markdown",
   "metadata": {},
   "source": [
    "### 4.b Create a separate dataset from the data which will have two columns , one which is created in step a of this task and second the monthly sales / revenue"
   ]
  },
  {
   "cell_type": "code",
   "execution_count": 11,
   "metadata": {},
   "outputs": [
    {
     "name": "stdout",
     "output_type": "stream",
     "text": [
      "   Month_Year  Monthly_Revenue\n",
      "0     2014-01       14236.8950\n",
      "1     2014-02        4519.8920\n",
      "2     2014-03       55691.0090\n",
      "3     2014-04       28295.3450\n",
      "4     2014-05       23648.2870\n",
      "5     2014-06       34595.1276\n",
      "6     2014-07       33946.3930\n",
      "7     2014-08       27909.4685\n",
      "8     2014-09       81777.3508\n",
      "9     2014-10       31453.3930\n",
      "10    2014-11       78628.7167\n",
      "11    2014-12       69545.6205\n",
      "12    2015-01       18174.0756\n",
      "13    2015-02       11951.4110\n",
      "14    2015-03       38726.2520\n",
      "15    2015-04       34195.2085\n",
      "16    2015-05       30131.6865\n",
      "17    2015-06       24797.2920\n",
      "18    2015-07       28765.3250\n",
      "19    2015-08       36898.3322\n",
      "20    2015-09       64595.9180\n",
      "21    2015-10       31404.9235\n",
      "22    2015-11       75972.5635\n",
      "23    2015-12       74919.5212\n",
      "24    2016-01       18542.4910\n",
      "25    2016-02       22978.8150\n",
      "26    2016-03       51715.8750\n",
      "27    2016-04       38750.0390\n",
      "28    2016-05       56987.7280\n",
      "29    2016-06       40344.5340\n",
      "30    2016-07       39261.9630\n",
      "31    2016-08       31115.3743\n",
      "32    2016-09       73410.0249\n",
      "33    2016-10       59687.7450\n",
      "34    2016-11       79411.9658\n",
      "35    2016-12       96999.0430\n",
      "36    2017-01       43971.3740\n",
      "37    2017-02       20301.1334\n",
      "38    2017-03       58872.3528\n",
      "39    2017-04       36521.5361\n",
      "40    2017-05       44261.1102\n",
      "41    2017-06       52981.7257\n",
      "42    2017-07       45264.4160\n",
      "43    2017-08       63120.8880\n",
      "44    2017-09       87866.6520\n",
      "45    2017-10       77776.9232\n",
      "46    2017-11      118447.8250\n",
      "47    2017-12       83829.3188\n"
     ]
    }
   ],
   "source": [
    "new_sheet = sheet1[['Month_Year']].copy()\n",
    "new_sheet['Monthly_Revenue'] = sheet1['Sales']\n",
    "new_sheet = new_sheet.groupby(['Month_Year'], as_index = False).agg('sum')\n",
    "print(new_sheet)"
   ]
  },
  {
   "cell_type": "markdown",
   "metadata": {},
   "source": [
    "### 4.c Plot this dataset"
   ]
  },
  {
   "cell_type": "code",
   "execution_count": 12,
   "metadata": {},
   "outputs": [
    {
     "data": {
      "image/png": "[encoded data removed]",
      "text/plain": [
       "<Figure size 432x288 with 1 Axes>"
      ]
     },
     "metadata": {
      "needs_background": "light"
     },
     "output_type": "display_data"
    }
   ],
   "source": [
    "ax = new_sheet.plot.bar(x = 'Month_Year', y = 'Monthly_Revenue')\n",
    "plt.show()"
   ]
  },
  {
   "cell_type": "markdown",
   "metadata": {},
   "source": [
    "### 4.d Describe your analysis for the monthly revenue observations."
   ]
  },
  {
   "cell_type": "code",
   "execution_count": 13,
   "metadata": {},
   "outputs": [
    {
     "name": "stdout",
     "output_type": "stream",
     "text": [
      "Average Monthly Revenue: 47858.35125625\n",
      "Maximum Monthly Revenue: 118447.82500000003\n",
      "Minimum Monthly Revenue: 4519.892000000001\n"
     ]
    }
   ],
   "source": [
    "mean1 = new_sheet['Monthly_Revenue'].mean()\n",
    "max1 = new_sheet['Monthly_Revenue'].max()\n",
    "min1 = new_sheet['Monthly_Revenue'].min()\n",
    "\n",
    "print ('Average Monthly Revenue: ' + str(mean1))\n",
    "print ('Maximum Monthly Revenue: ' + str(max1))\n",
    "print ('Minimum Monthly Revenue: ' + str(min1))"
   ]
  },
  {
   "cell_type": "markdown",
   "metadata": {},
   "source": [
    "Monthly revenue shows an overall increase throughout the months, the revenue is always positive but has deviated from the trend at certain intervals.\n",
    "- From the data it is evident that **fourth quarter** of every year has shown the highest revenue.\n",
    "- The **first quarter** of every year shows the least revenue every year.\n",
    "- The **second quarter** of every year shows stagnation or very less deviation.\n",
    "- The **third quarter** of every year shows an increase in revenue."
   ]
  },
  {
   "cell_type": "markdown",
   "metadata": {},
   "source": [
    "# Task 5: Find out the yearly revenue and analyze the findings\n",
    "### 5.a Create a column with Year field only give a suitable name to it"
   ]
  },
  {
   "cell_type": "code",
   "execution_count": 14,
   "metadata": {},
   "outputs": [
    {
     "data": {
      "text/html": [
       "<div>\n",
       "<style scoped>\n",
       "    .dataframe tbody tr th:only-of-type {\n",
       "        vertical-align: middle;\n",
       "    }\n",
       "\n",
       "    .dataframe tbody tr th {\n",
       "        vertical-align: top;\n",
       "    }\n",
       "\n",
       "    .dataframe thead th {\n",
       "        text-align: right;\n",
       "    }\n",
       "</style>\n",
       "<table border=\"1\" class=\"dataframe\">\n",
       "  <thead>\n",
       "    <tr style=\"text-align: right;\">\n",
       "      <th></th>\n",
       "      <th>Row ID</th>\n",
       "      <th>Order ID</th>\n",
       "      <th>Order Date</th>\n",
       "      <th>Ship Date</th>\n",
       "      <th>Ship Mode</th>\n",
       "      <th>Customer ID</th>\n",
       "      <th>Customer Name</th>\n",
       "      <th>Segment</th>\n",
       "      <th>Country</th>\n",
       "      <th>City</th>\n",
       "      <th>...</th>\n",
       "      <th>Product ID</th>\n",
       "      <th>Category</th>\n",
       "      <th>Sub-Category</th>\n",
       "      <th>Product Name</th>\n",
       "      <th>Sales</th>\n",
       "      <th>Quantity</th>\n",
       "      <th>Discount</th>\n",
       "      <th>Profit</th>\n",
       "      <th>Month_Year</th>\n",
       "      <th>Year</th>\n",
       "    </tr>\n",
       "  </thead>\n",
       "  <tbody>\n",
       "    <tr>\n",
       "      <th>0</th>\n",
       "      <td>1</td>\n",
       "      <td>CA-2016-152156</td>\n",
       "      <td>2016-11-08</td>\n",
       "      <td>2016-11-11</td>\n",
       "      <td>Second Class</td>\n",
       "      <td>CG-12520</td>\n",
       "      <td>Claire Gute</td>\n",
       "      <td>Consumer</td>\n",
       "      <td>United States</td>\n",
       "      <td>Henderson</td>\n",
       "      <td>...</td>\n",
       "      <td>FUR-BO-10001798</td>\n",
       "      <td>Furniture</td>\n",
       "      <td>Bookcases</td>\n",
       "      <td>Bush Somerset Collection Bookcase</td>\n",
       "      <td>261.9600</td>\n",
       "      <td>2</td>\n",
       "      <td>0.00</td>\n",
       "      <td>41.9136</td>\n",
       "      <td>2016-11</td>\n",
       "      <td>2016</td>\n",
       "    </tr>\n",
       "    <tr>\n",
       "      <th>1</th>\n",
       "      <td>2</td>\n",
       "      <td>CA-2016-152156</td>\n",
       "      <td>2016-11-08</td>\n",
       "      <td>2016-11-11</td>\n",
       "      <td>Second Class</td>\n",
       "      <td>CG-12520</td>\n",
       "      <td>Claire Gute</td>\n",
       "      <td>Consumer</td>\n",
       "      <td>United States</td>\n",
       "      <td>Henderson</td>\n",
       "      <td>...</td>\n",
       "      <td>FUR-CH-10000454</td>\n",
       "      <td>Furniture</td>\n",
       "      <td>Chairs</td>\n",
       "      <td>Hon Deluxe Fabric Upholstered Stacking Chairs,...</td>\n",
       "      <td>731.9400</td>\n",
       "      <td>3</td>\n",
       "      <td>0.00</td>\n",
       "      <td>219.5820</td>\n",
       "      <td>2016-11</td>\n",
       "      <td>2016</td>\n",
       "    </tr>\n",
       "    <tr>\n",
       "      <th>2</th>\n",
       "      <td>3</td>\n",
       "      <td>CA-2016-138688</td>\n",
       "      <td>2016-06-12</td>\n",
       "      <td>2016-06-16</td>\n",
       "      <td>Second Class</td>\n",
       "      <td>DV-13045</td>\n",
       "      <td>Darrin Van Huff</td>\n",
       "      <td>Corporate</td>\n",
       "      <td>United States</td>\n",
       "      <td>Los Angeles</td>\n",
       "      <td>...</td>\n",
       "      <td>OFF-LA-10000240</td>\n",
       "      <td>Office Supplies</td>\n",
       "      <td>Labels</td>\n",
       "      <td>Self-Adhesive Address Labels for Typewriters b...</td>\n",
       "      <td>14.6200</td>\n",
       "      <td>2</td>\n",
       "      <td>0.00</td>\n",
       "      <td>6.8714</td>\n",
       "      <td>2016-06</td>\n",
       "      <td>2016</td>\n",
       "    </tr>\n",
       "    <tr>\n",
       "      <th>3</th>\n",
       "      <td>4</td>\n",
       "      <td>US-2015-108966</td>\n",
       "      <td>2015-10-11</td>\n",
       "      <td>2015-10-18</td>\n",
       "      <td>Standard Class</td>\n",
       "      <td>SO-20335</td>\n",
       "      <td>Sean O'Donnell</td>\n",
       "      <td>Consumer</td>\n",
       "      <td>United States</td>\n",
       "      <td>Fort Lauderdale</td>\n",
       "      <td>...</td>\n",
       "      <td>FUR-TA-10000577</td>\n",
       "      <td>Furniture</td>\n",
       "      <td>Tables</td>\n",
       "      <td>Bretford CR4500 Series Slim Rectangular Table</td>\n",
       "      <td>957.5775</td>\n",
       "      <td>5</td>\n",
       "      <td>0.45</td>\n",
       "      <td>-383.0310</td>\n",
       "      <td>2015-10</td>\n",
       "      <td>2015</td>\n",
       "    </tr>\n",
       "    <tr>\n",
       "      <th>4</th>\n",
       "      <td>5</td>\n",
       "      <td>US-2015-108966</td>\n",
       "      <td>2015-10-11</td>\n",
       "      <td>2015-10-18</td>\n",
       "      <td>Standard Class</td>\n",
       "      <td>SO-20335</td>\n",
       "      <td>Sean O'Donnell</td>\n",
       "      <td>Consumer</td>\n",
       "      <td>United States</td>\n",
       "      <td>Fort Lauderdale</td>\n",
       "      <td>...</td>\n",
       "      <td>OFF-ST-10000760</td>\n",
       "      <td>Office Supplies</td>\n",
       "      <td>Storage</td>\n",
       "      <td>Eldon Fold 'N Roll Cart System</td>\n",
       "      <td>22.3680</td>\n",
       "      <td>2</td>\n",
       "      <td>0.20</td>\n",
       "      <td>2.5164</td>\n",
       "      <td>2015-10</td>\n",
       "      <td>2015</td>\n",
       "    </tr>\n",
       "  </tbody>\n",
       "</table>\n",
       "<p>5 rows × 23 columns</p>\n",
       "</div>"
      ],
      "text/plain": [
       "   Row ID        Order ID Order Date  Ship Date       Ship Mode Customer ID  \\\n",
       "0       1  CA-2016-152156 2016-11-08 2016-11-11    Second Class    CG-12520   \n",
       "1       2  CA-2016-152156 2016-11-08 2016-11-11    Second Class    CG-12520   \n",
       "2       3  CA-2016-138688 2016-06-12 2016-06-16    Second Class    DV-13045   \n",
       "3       4  US-2015-108966 2015-10-11 2015-10-18  Standard Class    SO-20335   \n",
       "4       5  US-2015-108966 2015-10-11 2015-10-18  Standard Class    SO-20335   \n",
       "\n",
       "     Customer Name    Segment        Country             City  ...  \\\n",
       "0      Claire Gute   Consumer  United States        Henderson  ...   \n",
       "1      Claire Gute   Consumer  United States        Henderson  ...   \n",
       "2  Darrin Van Huff  Corporate  United States      Los Angeles  ...   \n",
       "3   Sean O'Donnell   Consumer  United States  Fort Lauderdale  ...   \n",
       "4   Sean O'Donnell   Consumer  United States  Fort Lauderdale  ...   \n",
       "\n",
       "        Product ID         Category Sub-Category  \\\n",
       "0  FUR-BO-10001798        Furniture    Bookcases   \n",
       "1  FUR-CH-10000454        Furniture       Chairs   \n",
       "2  OFF-LA-10000240  Office Supplies       Labels   \n",
       "3  FUR-TA-10000577        Furniture       Tables   \n",
       "4  OFF-ST-10000760  Office Supplies      Storage   \n",
       "\n",
       "                                        Product Name     Sales Quantity  \\\n",
       "0                  Bush Somerset Collection Bookcase  261.9600        2   \n",
       "1  Hon Deluxe Fabric Upholstered Stacking Chairs,...  731.9400        3   \n",
       "2  Self-Adhesive Address Labels for Typewriters b...   14.6200        2   \n",
       "3      Bretford CR4500 Series Slim Rectangular Table  957.5775        5   \n",
       "4                     Eldon Fold 'N Roll Cart System   22.3680        2   \n",
       "\n",
       "  Discount    Profit  Month_Year  Year  \n",
       "0     0.00   41.9136     2016-11  2016  \n",
       "1     0.00  219.5820     2016-11  2016  \n",
       "2     0.00    6.8714     2016-06  2016  \n",
       "3     0.45 -383.0310     2015-10  2015  \n",
       "4     0.20    2.5164     2015-10  2015  \n",
       "\n",
       "[5 rows x 23 columns]"
      ]
     },
     "execution_count": 14,
     "metadata": {},
     "output_type": "execute_result"
    }
   ],
   "source": [
    "sheet1['Year'] = pd.to_datetime(sheet1['Order Date']).dt.to_period('Y')\n",
    "sheet1.head()"
   ]
  },
  {
   "cell_type": "markdown",
   "metadata": {},
   "source": [
    "### 5.b Create a separate dataset from the data which will have two columns , one which is created in step a of this task and second the yearly sales / revenue"
   ]
  },
  {
   "cell_type": "code",
   "execution_count": 15,
   "metadata": {},
   "outputs": [
    {
     "name": "stdout",
     "output_type": "stream",
     "text": [
      "   Year  Yearly_Revenue\n",
      "0  2014     484247.4981\n",
      "1  2015     470532.5090\n",
      "2  2016     609205.5980\n",
      "3  2017     733215.2552\n"
     ]
    }
   ],
   "source": [
    "new_sheet2 = sheet1[['Year']].copy()\n",
    "new_sheet2['Yearly_Revenue'] = sheet1['Sales']\n",
    "new_sheet2 = new_sheet2.groupby(['Year'], as_index = False).agg('sum')\n",
    "print(new_sheet2)"
   ]
  },
  {
   "cell_type": "markdown",
   "metadata": {},
   "source": [
    "### 5.c Plot this dataset"
   ]
  },
  {
   "cell_type": "code",
   "execution_count": 16,
   "metadata": {},
   "outputs": [
    {
     "data": {
      "image/png": "[encoded data removed]",
      "text/plain": [
       "<Figure size 432x288 with 1 Axes>"
      ]
     },
     "metadata": {
      "needs_background": "light"
     },
     "output_type": "display_data"
    }
   ],
   "source": [
    "ax = new_sheet2.plot.bar(x = 'Year', y = 'Yearly_Revenue')\n",
    "plt.show()"
   ]
  },
  {
   "cell_type": "markdown",
   "metadata": {},
   "source": [
    "### 5.d Describe your analysis for the yearly revenue observations."
   ]
  },
  {
   "cell_type": "code",
   "execution_count": 17,
   "metadata": {},
   "outputs": [
    {
     "name": "stdout",
     "output_type": "stream",
     "text": [
      "Average Yearly Revenue: 574300.2150750004\n",
      "Maximum Yearly Revenue: 733215.2551999999\n",
      "Minimum Yearly Revenue: 470532.50899999985\n"
     ]
    }
   ],
   "source": [
    "mean1 = new_sheet2['Yearly_Revenue'].mean()\n",
    "max1 = new_sheet2['Yearly_Revenue'].max()\n",
    "min1 = new_sheet2['Yearly_Revenue'].min()\n",
    "\n",
    "print ('Average Yearly Revenue: ' + str(mean1))\n",
    "print ('Maximum Yearly Revenue: ' + str(max1))\n",
    "print ('Minimum Yearly Revenue: ' + str(min1))"
   ]
  },
  {
   "cell_type": "markdown",
   "metadata": {},
   "source": [
    "Yearly revenue has been increasing for the years 2015, 16 and 17 meanwhile there is a minor drop in revenue in 2015 as compared to 2014.\n",
    "\n",
    "Overall from the data it can be inferred that there is an increasing trend in revenue"
   ]
  },
  {
   "cell_type": "markdown",
   "metadata": {},
   "source": [
    "# Task 6: Finding out the monthly growth rate and analyse the findings\n",
    "### 6.a Create a column in the monthly revenue dataset for monthly growth rate"
   ]
  },
  {
   "cell_type": "code",
   "execution_count": 18,
   "metadata": {},
   "outputs": [
    {
     "name": "stdout",
     "output_type": "stream",
     "text": [
      "   Month_Year  Monthly_Revenue  Monthly_Growth\n",
      "0     2014-01       14236.8950             NaN\n",
      "1     2014-02        4519.8920      -68.252263\n",
      "2     2014-03       55691.0090     1132.131409\n",
      "3     2014-04       28295.3450      -49.192257\n",
      "4     2014-05       23648.2870      -16.423401\n",
      "5     2014-06       34595.1276       46.290205\n",
      "6     2014-07       33946.3930       -1.875220\n",
      "7     2014-08       27909.4685      -17.783699\n",
      "8     2014-09       81777.3508      193.009345\n",
      "9     2014-10       31453.3930      -61.537770\n",
      "10    2014-11       78628.7167      149.984848\n",
      "11    2014-12       69545.6205      -11.551882\n",
      "12    2015-01       18174.0756      -73.867405\n",
      "13    2015-02       11951.4110      -34.239236\n",
      "14    2015-03       38726.2520      224.030794\n",
      "15    2015-04       34195.2085      -11.700186\n",
      "16    2015-05       30131.6865      -11.883308\n",
      "17    2015-06       24797.2920      -17.703604\n",
      "18    2015-07       28765.3250       16.001880\n",
      "19    2015-08       36898.3322       28.273650\n",
      "20    2015-09       64595.9180       75.064601\n",
      "21    2015-10       31404.9235      -51.382495\n",
      "22    2015-11       75972.5635      141.912907\n",
      "23    2015-12       74919.5212       -1.386082\n",
      "24    2016-01       18542.4910      -75.250121\n",
      "25    2016-02       22978.8150       23.925178\n",
      "26    2016-03       51715.8750      125.058929\n",
      "27    2016-04       38750.0390      -25.071288\n",
      "28    2016-05       56987.7280       47.064957\n",
      "29    2016-06       40344.5340      -29.204874\n",
      "30    2016-07       39261.9630       -2.683315\n",
      "31    2016-08       31115.3743      -20.749316\n",
      "32    2016-09       73410.0249      135.928465\n",
      "33    2016-10       59687.7450      -18.692651\n",
      "34    2016-11       79411.9658       33.045679\n",
      "35    2016-12       96999.0430       22.146634\n",
      "36    2017-01       43971.3740      -54.668239\n",
      "37    2017-02       20301.1334      -53.831023\n",
      "38    2017-03       58872.3528      189.995399\n",
      "39    2017-04       36521.5361      -37.964878\n",
      "40    2017-05       44261.1102       21.191809\n",
      "41    2017-06       52981.7257       19.702659\n",
      "42    2017-07       45264.4160      -14.565984\n",
      "43    2017-08       63120.8880       39.449249\n",
      "44    2017-09       87866.6520       39.203764\n",
      "45    2017-10       77776.9232      -11.483001\n",
      "46    2017-11      118447.8250       52.291734\n",
      "47    2017-12       83829.3188      -29.226798\n"
     ]
    }
   ],
   "source": [
    "new_sheet['Monthly_Growth'] = new_sheet['Monthly_Revenue'].pct_change() * 100\n",
    "print(new_sheet)"
   ]
  },
  {
   "cell_type": "markdown",
   "metadata": {},
   "source": [
    "### 6.b Find out the maximum monthly growth rate"
   ]
  },
  {
   "cell_type": "code",
   "execution_count": 19,
   "metadata": {},
   "outputs": [
    {
     "name": "stdout",
     "output_type": "stream",
     "text": [
      "1132.1314093345597 %\n"
     ]
    }
   ],
   "source": [
    "max_monthly_rate = new_sheet['Monthly_Growth'].max()\n",
    "print(max_monthly_rate, \"%\")"
   ]
  },
  {
   "cell_type": "markdown",
   "metadata": {},
   "source": [
    "### 6.c Plot the findings"
   ]
  },
  {
   "cell_type": "code",
   "execution_count": 20,
   "metadata": {},
   "outputs": [
    {
     "data": {
      "image/png": "[encoded data removed]",
      "text/plain": [
       "<Figure size 432x288 with 1 Axes>"
      ]
     },
     "metadata": {
      "needs_background": "light"
     },
     "output_type": "display_data"
    }
   ],
   "source": [
    "ax = new_sheet.plot.line(x = 'Month_Year', y = 'Monthly_Growth')\n",
    "plt.show()"
   ]
  },
  {
   "cell_type": "markdown",
   "metadata": {},
   "source": [
    "### 6.d Describe the findings\n",
    "    There is a 1132% spike during the first quarter of 2014.\n",
    "* The graph shows that there is an increasing trend to in the monthly growth rate, as the graph is comparing monthly revenues of concurrent months, it can be inferred that flat lines show no change in revenue while positive slope shows there is an increase in revenue and vice-versa.\n",
    "* From the data it can be inferred that there is stagnation in monthly profits over the years."
   ]
  },
  {
   "cell_type": "markdown",
   "metadata": {},
   "source": [
    "# Task 7: Finding out the most and least sold product id\n",
    "### 7.a Create a new dataset including the product ids and total quantities sold for that id"
   ]
  },
  {
   "cell_type": "code",
   "execution_count": 21,
   "metadata": {},
   "outputs": [
    {
     "name": "stdout",
     "output_type": "stream",
     "text": [
      "           Product ID  Quantity\n",
      "0     FUR-BO-10000112         9\n",
      "1     FUR-BO-10000330        10\n",
      "2     FUR-BO-10000362        14\n",
      "3     FUR-BO-10000468        21\n",
      "4     FUR-BO-10000711        12\n",
      "...               ...       ...\n",
      "1857  TEC-PH-10004912        11\n",
      "1858  TEC-PH-10004922        19\n",
      "1859  TEC-PH-10004924         8\n",
      "1860  TEC-PH-10004959         4\n",
      "1861  TEC-PH-10004977        32\n",
      "\n",
      "[1862 rows x 2 columns]\n"
     ]
    }
   ],
   "source": [
    "sales_sheet = sheet1[['Product ID', 'Quantity']].copy()\n",
    "sales_sheet = sales_sheet.groupby(['Product ID'], as_index = False).agg('sum')\n",
    "print(sales_sheet)"
   ]
  },
  {
   "cell_type": "markdown",
   "metadata": {},
   "source": [
    "### 7.b Find out the most sold product from the created dataset"
   ]
  },
  {
   "cell_type": "code",
   "execution_count": 22,
   "metadata": {},
   "outputs": [
    {
     "name": "stdout",
     "output_type": "stream",
     "text": [
      "           Product ID  Quantity\n",
      "1569  TEC-AC-10003832        75\n"
     ]
    }
   ],
   "source": [
    "most_sold_product = sales_sheet[sales_sheet['Quantity'] == sales_sheet['Quantity'].max()]\n",
    "print(most_sold_product)\n",
    "# details_of_most_sold_product = sheet1[sheet1['Product ID'] == sales_sheet.loc[sales_sheet['Quantity'].idxmax(),'Product ID']]\n",
    "# details_of_most_sold_product"
   ]
  },
  {
   "cell_type": "markdown",
   "metadata": {},
   "source": [
    "# Task 8: Finding out the customer who bought most and least from us in terms of quantity\n",
    "### 8.a Create a dataset containing name and quantities bought"
   ]
  },
  {
   "cell_type": "code",
   "execution_count": 23,
   "metadata": {},
   "outputs": [],
   "source": [
    "temp_sheet = sheet1[['Customer Name', 'Quantity']].copy()\n",
    "temp_sheet = temp_sheet.groupby(['Customer Name'], as_index = False).agg('sum')"
   ]
  },
  {
   "cell_type": "markdown",
   "metadata": {},
   "source": [
    "### 8.b Find out the customer name and quantity, who bought maximum in quantity"
   ]
  },
  {
   "cell_type": "code",
   "execution_count": 24,
   "metadata": {},
   "outputs": [
    {
     "name": "stdout",
     "output_type": "stream",
     "text": [
      "Customer with most purchases :\n",
      "         Customer Name  Quantity\n",
      "391  Jonathan Doherty       150\n",
      "\n",
      "\n",
      "Customer with least purchases :\n",
      "         Customer Name  Quantity\n",
      "53  Anthony O'Donnell         2\n"
     ]
    }
   ],
   "source": [
    "most_purchasing_customer = temp_sheet[temp_sheet['Quantity'] == temp_sheet['Quantity'].max()]\n",
    "print(\"Customer with most purchases :\\n\",most_purchasing_customer)\n",
    "min_purchasing_customer = temp_sheet[temp_sheet['Quantity'] == temp_sheet['Quantity'].min()]\n",
    "print(\"\\n\\nCustomer with least purchases :\\n\", min_purchasing_customer)"
   ]
  },
  {
   "cell_type": "markdown",
   "metadata": {},
   "source": [
    "# Task 9: Finding out the customer who bought most and least from us in terms of value\n",
    "### 9.a Create a dataset containing name and sales generated by him"
   ]
  },
  {
   "cell_type": "code",
   "execution_count": 25,
   "metadata": {},
   "outputs": [],
   "source": [
    "customer_sales = sheet1[['Customer Name', 'Sales']].copy()\n",
    "customer_sales = customer_sales.groupby(['Customer Name'], as_index = False).agg('sum')"
   ]
  },
  {
   "cell_type": "markdown",
   "metadata": {},
   "source": [
    "### 9. b Find out the customer name and sales, who bought maximum in value"
   ]
  },
  {
   "cell_type": "code",
   "execution_count": 26,
   "metadata": {},
   "outputs": [
    {
     "name": "stdout",
     "output_type": "stream",
     "text": [
      "    Customer Name     Sales\n",
      "686   Sean Miller  25043.05\n"
     ]
    }
   ],
   "source": [
    "most_purchasing_customer_value = customer_sales[customer_sales['Sales'] == customer_sales['Sales'].max()]\n",
    "print(most_purchasing_customer_value)"
   ]
  },
  {
   "cell_type": "markdown",
   "metadata": {},
   "source": [
    "# Task 10: Finding out the majority and minority customer cities on basis of\n",
    "### 10.a Number of customers"
   ]
  },
  {
   "cell_type": "code",
   "execution_count": 27,
   "metadata": {},
   "outputs": [
    {
     "name": "stdout",
     "output_type": "stream",
     "text": [
      "City with most customers :\n",
      "             City  Customer Count\n",
      "0  New York City             915\n",
      "\n",
      "\n",
      "Cities with least customers :\n",
      "                  City  Customer Count\n",
      "0            Aberdeen               1\n",
      "1             Abilene               1\n",
      "2             Antioch               1\n",
      "3   Arlington Heights               1\n",
      "4       Atlantic City               1\n",
      "..                ...             ...\n",
      "65          Vacaville               1\n",
      "66           Waterloo               1\n",
      "67           Waukesha               1\n",
      "68           Whittier               1\n",
      "69            Yucaipa               1\n",
      "\n",
      "[70 rows x 2 columns]\n"
     ]
    }
   ],
   "source": [
    "customer_city = sheet1[['City', 'Customer Name']].copy()\n",
    "customer_city = customer_city.groupby(['City'], as_index = False).count()\n",
    "customer_city.columns = ['City','Customer Count']\n",
    "majority_customer_city = customer_city[customer_city['Customer Count'] == customer_city['Customer Count'].max()]\n",
    "print(\"City with most customers :\\n\", majority_customer_city.reset_index(drop=True))\n",
    "\n",
    "minority_customer_city = customer_city[customer_city['Customer Count'] == customer_city['Customer Count'].min()]\n",
    "print(\"\\n\\nCities with least customers :\\n\",minority_customer_city.reset_index(drop=True))"
   ]
  },
  {
   "cell_type": "markdown",
   "metadata": {},
   "source": [
    "### 10.b Sales value"
   ]
  },
  {
   "cell_type": "code",
   "execution_count": 28,
   "metadata": {},
   "outputs": [
    {
     "name": "stdout",
     "output_type": "stream",
     "text": [
      "City with highest sales value :\n",
      "               City       Sales\n",
      "329  New York City  256368.161\n",
      "\n",
      "\n",
      "City with least sales value :\n",
      "       City  Sales\n",
      "1  Abilene  1.392\n"
     ]
    }
   ],
   "source": [
    "customer_city = sheet1[['City', 'Sales']].copy()\n",
    "customer_city = customer_city.groupby(['City'], as_index = False).sum()\n",
    "\n",
    "majority_customer_value = customer_city[customer_city['Sales'] == customer_city['Sales'].max()]\n",
    "print(\"City with highest sales value :\\n\" ,majority_customer_value)\n",
    "\n",
    "minority_customer_value = customer_city[customer_city['Sales'] == customer_city['Sales'].min()]\n",
    "print(\"\\n\\nCity with least sales value :\\n\",minority_customer_value)"
   ]
  },
  {
   "cell_type": "markdown",
   "metadata": {},
   "source": [
    "### 10.c Number of quantity sold"
   ]
  },
  {
   "cell_type": "code",
   "execution_count": 29,
   "metadata": {},
   "outputs": [
    {
     "name": "stdout",
     "output_type": "stream",
     "text": [
      "Customer with maximum quantity sold :\n",
      "               City  Quantity\n",
      "329  New York City      3417\n",
      "\n",
      "\n",
      "Cities with minimum quantity sold :\n",
      "           City  Quantity\n",
      "0       Elyria         1\n",
      "1    Iowa City         1\n",
      "2      Jupiter         1\n",
      "3  Lindenhurst         1\n",
      "4    Littleton         1\n",
      "5  Port Orange         1\n"
     ]
    }
   ],
   "source": [
    "customer_quantity = sheet1[['City', 'Quantity']].copy()\n",
    "customer_quantity = customer_quantity.groupby(['City'], as_index = False).sum()\n",
    "\n",
    "maximum_customer_quantity = customer_quantity[customer_quantity['Quantity'] == customer_quantity['Quantity'].max()]\n",
    "print(\"Customer with maximum quantity sold :\\n\", maximum_customer_quantity)\n",
    "\n",
    "minimum_customer_quantity = customer_quantity[customer_quantity['Quantity'] == customer_quantity['Quantity'].min()]\n",
    "print(\"\\n\\nCities with minimum quantity sold :\\n\", minimum_customer_quantity.reset_index(drop=True))"
   ]
  },
  {
   "cell_type": "markdown",
   "metadata": {},
   "source": [
    "# Task 11: Find out the most and least sold product category from the store\n",
    "### 11.a Value based"
   ]
  },
  {
   "cell_type": "code",
   "execution_count": 30,
   "metadata": {},
   "outputs": [
    {
     "name": "stdout",
     "output_type": "stream",
     "text": [
      "Category with maximum sales :\n",
      "      Category       Sales\n",
      "2  Technology  836154.033\n",
      "\n",
      "\n",
      "Category with minumum sales :\n",
      "           Category       Sales\n",
      "1  Office Supplies  719047.032\n"
     ]
    }
   ],
   "source": [
    "sales_category = sheet1[['Category', 'Sales']].copy()\n",
    "sales_category = sales_category.groupby(['Category'], as_index = False).sum()\n",
    "\n",
    "maximum_sales_category = sales_category[sales_category['Sales'] == sales_category['Sales'].max()]\n",
    "print(\"Category with maximum sales :\\n\", maximum_sales_category)\n",
    "\n",
    "minimum_sales_category = sales_category[sales_category['Sales'] == sales_category['Sales'].min()]\n",
    "print(\"\\n\\nCategory with minumum sales :\\n\", minimum_sales_category)"
   ]
  },
  {
   "cell_type": "markdown",
   "metadata": {},
   "source": [
    "### 11.b Quantity based"
   ]
  },
  {
   "cell_type": "code",
   "execution_count": 31,
   "metadata": {},
   "outputs": [
    {
     "name": "stdout",
     "output_type": "stream",
     "text": [
      "Category with maximum quantity sold :\n",
      "           Category  Quantity\n",
      "1  Office Supplies     22906\n",
      "\n",
      "\n",
      "Category with minimum quantity sold :\n",
      "      Category  Quantity\n",
      "2  Technology      6939\n"
     ]
    }
   ],
   "source": [
    "quantity_category = sheet1[['Category', 'Quantity']].copy()\n",
    "quantity_category = quantity_category.groupby(['Category'], as_index = False).sum()\n",
    "\n",
    "maximum_quantity_category = quantity_category[quantity_category['Quantity'] == quantity_category['Quantity'].max()]\n",
    "print(\"Category with maximum quantity sold :\\n\", maximum_quantity_category)\n",
    "\n",
    "minimum_quantity_category = quantity_category[quantity_category['Quantity'] == quantity_category['Quantity'].min()]\n",
    "print(\"\\n\\nCategory with minimum quantity sold :\\n\", minimum_quantity_category)"
   ]
  },
  {
   "cell_type": "markdown",
   "metadata": {},
   "source": [
    "# Task 12: Find out the most and least sold product sub category from the store\n",
    "### 12.a Value based"
   ]
  },
  {
   "cell_type": "code",
   "execution_count": 32,
   "metadata": {},
   "outputs": [
    {
     "name": "stdout",
     "output_type": "stream",
     "text": [
      "Sub-Category with maximum sales :\n",
      "    Sub-Category       Sales\n",
      "13       Phones  330007.054\n",
      "\n",
      "\n",
      "Sub-Category with minimum sales :\n",
      "   Sub-Category    Sales\n",
      "8    Fasteners  3024.28\n"
     ]
    }
   ],
   "source": [
    "sales_subcategory = sheet1[['Sub-Category', 'Sales']].copy()\n",
    "sales_subcategory = sales_subcategory.groupby(['Sub-Category'], as_index = False).sum()\n",
    "\n",
    "maximum_sales_subcategory = sales_subcategory[sales_subcategory['Sales'] == sales_subcategory['Sales'].max()]\n",
    "print(\"Sub-Category with maximum sales :\\n\", maximum_sales_subcategory)\n",
    "\n",
    "minimum_sales_subcategory = sales_subcategory[sales_subcategory['Sales'] == sales_subcategory['Sales'].min()]\n",
    "print(\"\\n\\nSub-Category with minimum sales :\\n\", minimum_sales_subcategory)"
   ]
  },
  {
   "cell_type": "markdown",
   "metadata": {},
   "source": [
    "### 12.b Quantity based"
   ]
  },
  {
   "cell_type": "code",
   "execution_count": 33,
   "metadata": {},
   "outputs": [
    {
     "name": "stdout",
     "output_type": "stream",
     "text": [
      "Sub-Category with maximum quantity sold :\n",
      "   Sub-Category  Quantity\n",
      "3      Binders      5974\n",
      "\n",
      "\n",
      "Sub-Category with minimum quantity sold :\n",
      "   Sub-Category  Quantity\n",
      "6      Copiers       234\n"
     ]
    }
   ],
   "source": [
    "quantity_subcategory = sheet1[['Sub-Category', 'Quantity']].copy()\n",
    "quantity_subcategory = quantity_subcategory.groupby(['Sub-Category'], as_index = False).sum()\n",
    "\n",
    "maximum_quantity_category = quantity_subcategory[quantity_subcategory['Quantity'] == quantity_subcategory['Quantity'].max()]\n",
    "print(\"Sub-Category with maximum quantity sold :\\n\", maximum_quantity_category)\n",
    "\n",
    "minimum_quantity_category = quantity_subcategory[quantity_subcategory['Quantity'] == quantity_subcategory['Quantity'].min()]\n",
    "print(\"\\n\\nSub-Category with minimum quantity sold :\\n\", minimum_quantity_category)"
   ]
  }
 ],
 "metadata": {
  "kernelspec": {
   "display_name": "Python 3",
   "language": "python",
   "name": "python3"
  },
  "language_info": {
   "codemirror_mode": {
    "name": "ipython",
    "version": 3
   },
   "file_extension": ".py",
   "mimetype": "text/x-python",
   "name": "python",
   "nbconvert_exporter": "python",
   "pygments_lexer": "ipython3",
   "version": "3.8.5"
  }
 },
 "nbformat": 4,
 "nbformat_minor": 4
}
